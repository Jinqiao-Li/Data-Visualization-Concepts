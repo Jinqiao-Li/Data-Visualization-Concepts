{
 "cells": [
  {
   "cell_type": "code",
   "execution_count": 1,
   "metadata": {},
   "outputs": [],
   "source": [
    "import pandas as pd \n",
    "from math import pi\n",
    "import numpy as np\n",
    "from bokeh.io import output_file, show, save\n",
    "from bokeh.plotting import figure\n",
    "from bokeh.models import ColumnDataSource, HoverTool,FactorRange\n",
    "import bokeh.palettes as bp\n",
    " \n",
    "# Goal: Draw a line chart displaying averaged daily new cases for all cantons in Switzerland.\n",
    "# Dataset: covid19_cases_switzerland_openzh-phase2.csv\n",
    "# Interpretation: value on row i, column j is either the cumulative covid-19 case number of canton j on date i or null value\n",
    "\n",
    "### Task 1: Data Preprocessing\n",
    "## T1.1 Read data into a dataframe, set column \"Date\" to be the index \n",
    "\n",
    "url = 'https://github.com/daenuprobst/covid19-cases-switzerland/blob/master/covid19_cases_switzerland_openzh-phase2.csv?raw=true'\n",
    "raw = pd.read_csv(url,usecols=range(0,28))\n",
    "\n",
    "# Initialize the first row with zeros, and remove the last column 'CH' from dataframe\n",
    " \n",
    "raw.drop('CH',axis=1,inplace=True)\n",
    "\n",
    "# Fill null with the value of previous date from same canton\n",
    "# https://pandas.pydata.org/pandas-docs/stable/reference/api/pandas.DataFrame.fillna.html\n",
    "raw = raw.fillna(method='ffill')\n",
    "\n",
    "#raw"
   ]
  },
  {
   "cell_type": "code",
   "execution_count": 2,
   "metadata": {
    "scrolled": false
   },
   "outputs": [],
   "source": [
    "## T1.2 Calculate and smooth daily case changes\n",
    "\n",
    "# Compute daily new cases (dnc) for each canton, e.g. new case on Tuesday = case on Tuesday - case on Monday;\n",
    "# Fill null with zeros as well\n",
    "\n",
    "dnc = raw.copy()\n",
    "#dnc.reshape(raw.shape)\n",
    "#print(dnc)\n",
    "for i in range(1,raw.shape[0]):\n",
    "    for j in range(1,raw.shape[1]):\n",
    "        dnc.iloc[i,j]=raw.iloc[i,j]-raw.iloc[i-1,j]\n",
    "#dnc.fillna(0)\n",
    "#print(dnc['AI'])\n",
    "\n",
    "# Smooth daily new case by the average value in a rolling window, and the window size is defined by step\n",
    "# Why do we need smoothing? How does the window size affect the result?\n",
    "# https://pandas.pydata.org/pandas-docs/stable/reference/api/pandas.DataFrame.rolling.html\n",
    "step = 3\n",
    "dnc_avg = dnc.copy()\n",
    "dnc_avg.iloc[:,1:] =dnc.iloc[:,1:].rolling(step, min_periods=1).mean()\n",
    "\n",
    "#dnc_avg"
   ]
  },
  {
   "cell_type": "code",
   "execution_count": 3,
   "metadata": {},
   "outputs": [],
   "source": [
    "## T1.3 Build a ColumnDataSource \n",
    "\n",
    "# Extract all canton names and dates\n",
    "# NOTE: be careful with the format of date when it is used as x input for a plot\n",
    "cantons = dnc_avg.columns.values[1:].tolist()\n",
    "#print(cantons)\n",
    "date = pd.to_datetime(dnc_avg['Date'])\n",
    "#print(date)\n",
    "\n",
    "# Create a color list to represent different cantons in the plot, you can either construct your own color patette or use the Bokeh color pallete\n",
    "import itertools\n",
    "\n",
    "color_palette = itertools.cycle(bp.Spectral8)\n",
    "#color_palette = bp.Spectral11\n",
    "#print(color_palette)\n",
    "\n",
    "# Build a dictionary with date and each canton name as a key, i.e., {'date':[], 'AG':[], ..., 'ZH':[]}\n",
    "# For each canton, the value is a list containing the averaged daily new cases \n",
    "source_dict = {col:dnc_avg[col].tolist() for col in cantons}\n",
    "source_dict.update({\"date\": date}) \n",
    "#print(source_dict)\n",
    "source = ColumnDataSource(data=source_dict)\n"
   ]
  },
  {
   "cell_type": "code",
   "execution_count": 4,
   "metadata": {},
   "outputs": [],
   "source": [
    "### Task 2: Data Visualization\n",
    "\n",
    "## T2.1: Draw a group of lines, each line represents a canton, using date, dnc_avg as x,y. Add proper legend.\n",
    "# https://docs.bokeh.org/en/latest/docs/reference/models/glyphs/line.html?highlight=line#bokeh.models.glyphs.Line\n",
    "# https://docs.bokeh.org/en/latest/docs/user_guide/interaction/legends.html\n",
    "\n",
    "p = figure(plot_width=1000, plot_height=800, x_axis_type=\"datetime\")\n",
    "p.title.text = 'Daily New Cases in Switzerland'\n",
    "\n",
    "lines = []\n",
    "for canton,color in zip(cantons,color_palette): \n",
    "    renderer = p.line(x='date',y=canton,legend_label=canton,\n",
    "                      source=source,color=color)\n",
    "    \n",
    "    hover = (HoverTool(\n",
    "            tooltips=[( 'date', '@date{%F}'),\n",
    "                      ( 'canton', canton), \n",
    "                      ( 'cases', '@'+canton )],\n",
    "            formatters={'@date': 'datetime'},\n",
    "            renderers = [renderer]))\n",
    "    \n",
    "    p.add_tools(hover)\n",
    "                \n",
    "#p.add_tools(hover)\n",
    "# Make the legend of the plot clickable, and set the click_policy to be \"hide\"\n",
    "p.legend.location = \"top_left\"\n",
    "p.legend.click_policy=\"hide\"\n",
    "\n"
   ]
  },
  {
   "cell_type": "code",
   "execution_count": 5,
   "metadata": {},
   "outputs": [
    {
     "data": {
      "text/plain": [
       "'C:\\\\Users\\\\Administrator\\\\Desktop\\\\UZH\\\\2020 Fall\\\\Data visualization Concepts\\\\ecercise\\\\exercise02\\\\DVC_2020_Exercise2\\\\dvc_ex2.html'"
      ]
     },
     "execution_count": 5,
     "metadata": {},
     "output_type": "execute_result"
    }
   ],
   "source": [
    "## T2.2 Add hovering tooltips to display date, canton and averaged daily new case\n",
    "\n",
    "# (Hovertip doc) https://docs.bokeh.org/en/latest/docs/user_guide/tools.html#hovertool\n",
    "# (Date hover)https://stackoverflow.com/questions/41380824/python-bokeh-hover-date-time\n",
    "\n",
    "    \n",
    "show(p)\n",
    "output_file(\"dvc_ex2.html\")\n",
    "save(p)"
   ]
  }
 ],
 "metadata": {
  "kernelspec": {
   "display_name": "Python 3",
   "language": "python",
   "name": "python3"
  },
  "language_info": {
   "codemirror_mode": {
    "name": "ipython",
    "version": 3
   },
   "file_extension": ".py",
   "mimetype": "text/x-python",
   "name": "python",
   "nbconvert_exporter": "python",
   "pygments_lexer": "ipython3",
   "version": "3.7.1"
  }
 },
 "nbformat": 4,
 "nbformat_minor": 2
}
